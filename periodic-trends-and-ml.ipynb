{
 "cells": [
  {
   "cell_type": "markdown",
   "metadata": {},
   "source": [
    "<h1>Using machine learning to predict properties of chemicals</h1>\n",
    "\n",
    "There are numerous properties worth studying about chemicals, such as their boiling and melting points, their densities at room temperature, or even their color. Learning more about a chemical's properties can help us identify potential ways in which we can use them to better the human condition, such as by creating refrigerants that don't harm the ozone layer or new ways to treat diseases. \n",
    "\n",
    "In this activity, we will explore how machine learning can use data about the properties of chemicals using various mathematical approaches. Specifically, we'll explore how well three different machine learning models can predict properties related to periodic trends. \n",
    "\n",
    "First, we will work together to explore how well these machine learning models can predict ionization energy. \n",
    "\n",
    "Second, you will work on your own in teams to select a _different_ periodic trend and use the data provided to evaluate the ability of the provided machine learning models to predict the periodic trend data. "
   ]
  },
  {
   "cell_type": "markdown",
   "metadata": {},
   "source": [
    "<h2>Step 1: Preparing our Python libraries and datasets</h2> \n",
    "\n",
    "To begin, we need to load our Python notebook with some Python libraries. Libraries are code that someone else has written that we can use to make our programming lives easier. This code is abstracted away and we simply use commands that are provided by the library's author to perform specific functions. Using libraries is standard in many fields in the programming industry."
   ]
  },
  {
   "cell_type": "code",
   "execution_count": 1,
   "metadata": {},
   "outputs": [],
   "source": [
    "import numpy as np ##imports the numpy library, which is useful for doing mathematics and analysis with data\n",
    "import matplotlib.pyplot as plt ##imports the matplotlib library, which is useful for graphing data\n",
    "import pandas as pd ##imports the pandas library, which is useful for working with datasets"
   ]
  },
  {
   "cell_type": "markdown",
   "metadata": {},
   "source": [
    "Next we need to load in our data. The dataset we are using today has several types of data for various chemicals. Each chemical has its own row with data organized into different columns. The columns we are interested in today are the fourth column and the fifth column. In python, we start counting at 0, so our code needs to reference columns 3 and 4. "
   ]
  },
  {
   "cell_type": "code",
   "execution_count": 2,
   "metadata": {},
   "outputs": [],
   "source": [
    "file_path = './pt-data.csv' ##this is a relative file path\n",
    "\n",
    "#In the line below, we read in the data from the data file using the file_path variable assigned above\n",
    "#We instruct the computer to skip the first row and to not create a header (labels for data)\n",
    "#Skipping the header row in this case is purely down to preference, we could keep it and deal with it later on (but we won't)\n",
    "data = pd.read_csv(file_path, header=None, skiprows=1)\n",
    "\n",
    "#In the lines below, we create two smaller sets of the data\n",
    "#The first set contains all the molecular weights of the substances from column 2 of the original data set\n",
    "#The second set contains all the boiling points of the substances from column 3 of the original data set\n",
    "atomic_number = data[0].to_numpy()\n",
    "atomic_mass = data[3].to_numpy()"
   ]
  },
  {
   "cell_type": "markdown",
   "metadata": {},
   "source": [
    "Since we are learning as we go, it is probably good to check and make sure what we wanted to do is what we actually did. Let's create a graph of our data points to make sure they have the expected values and trend. "
   ]
  },
  {
   "cell_type": "code",
   "execution_count": null,
   "metadata": {
    "colab": {
     "base_uri": "https://localhost:8080/",
     "height": 958
    },
    "id": "uJudcx-sLGnJ",
    "outputId": "0da61925-bcad-4f74-f4ab-f9dc2b94fc71"
   },
   "outputs": [],
   "source": [
    "plt.figure(figsize=(12,8)) #this creates a figure using matplotlib that has the size of 12 units across and 8 units tall\n",
    "\n",
    "#Let's discuss this code in our session -- what is it doing? how do you we know?\n",
    "plt.scatter(atomic_number, atomic_mass, color='black') #\n",
    "plt.xlabel('Atomic Number') #\n",
    "plt.ylabel('Atomic Mass (amu)') #\n",
    "plt.title('Atomic Number vs. Atomic Mass') #\n",
    "\n",
    "plt.minorticks_on()  # Enable minor ticks\n",
    "plt.grid(which='major', linestyle='-', linewidth='0.5', color='black')  # Major gridlines\n",
    "plt.grid(which='minor', linestyle=':', linewidth='0.5', color='grey')  # Minor gridlines\n",
    "plt.show() #displays the graph when the code is run"
   ]
  },
  {
   "attachments": {
    "0f987702-9a26-460b-9d36-16e8422a3b24.png": {
     "image/png": "[encoded data removed]"
    }
   },
   "cell_type": "markdown",
   "metadata": {},
   "source": [
    "![teal-stop.png](attachment:0f987702-9a26-460b-9d36-16e8422a3b24.png)"
   ]
  },
  {
   "cell_type": "markdown",
   "metadata": {},
   "source": [
    "<h2>Step 2: Preparing our data for machine learning</h2>\n",
    "\n",
    "For the machine learning process, we are going to seperate our data into two groups: \n",
    "1. The first group is the _training_ group, and this group will be used to train the data set\n",
    "2. The second group is the _testing_ group, and this group will be used to test the ability of the machine to predict data it has _not_ seen previously during training\n",
    "\n",
    "In this step, we also make some changes to how the data is organized so the Python code for machine learning can work, but this is beyond what we need to discuss today. "
   ]
  },
  {
   "cell_type": "code",
   "execution_count": 4,
   "metadata": {
    "colab": {
     "base_uri": "https://localhost:8080/",
     "height": 736
    },
    "id": "8i_uMAxINqIa",
    "outputId": "c6e944ac-71be-4984-ede4-f76b6609df32"
   },
   "outputs": [],
   "source": [
    "# Step 3: Split the data into training and testing sets\n",
    "from sklearn.model_selection import train_test_split\n",
    "atomic_number_train, atomic_number_test, atomic_mass_train, atomic_mass_test = train_test_split(\n",
    "    atomic_number.reshape(-1, 1), atomic_mass, test_size=0.2, random_state=0)"
   ]
  },
  {
   "attachments": {
    "f3860ea6-bc2b-444a-b652-27676d072187.png": {
     "image/png": "[encoded data removed]"
    }
   },
   "cell_type": "markdown",
   "metadata": {},
   "source": [
    "![purple-stop.png](attachment:f3860ea6-bc2b-444a-b652-27676d072187.png)"
   ]
  },
  {
   "cell_type": "markdown",
   "metadata": {},
   "source": [
    "<h2>Step 3: Now let's see how different models perform on the dataset</h2>\n",
    "\n",
    "Each of the three code blocks below contain a different machine learning model. The model is trained using the training data set, and then tested by predicting the boiling point of the substances in the training data set.\n",
    "\n",
    "During training, the machine uses a mathematical model to try to predict the boiling point correctly. When it is wrong, it adjusts some of the numbers it uses in the model to try to get closer to the correct boiling point from the data set. \n",
    "\n",
    "Once it is sufficiently good at predicting the _known_ boiling points, we can have it predict boiling points for substances it has never seen before. By plotting the machine's prediction for data in the testing data set versus the actual boiling points, we can visually see how well the model performs. "
   ]
  },
  {
   "cell_type": "markdown",
   "metadata": {},
   "source": [
    "<h3>Decision Tree Regressor Model</h3>\n",
    "\n",
    "The Decision Tree Regressor attempts to split the data set into increasingly smaller groups based upon common factors. Imagine we had a data set with colors from blue to yellow. \n",
    "\n",
    "A decision tree regressor model tries a bunch of different mathematical approaches to split the data so that the data with the most features in common are grouped together. As the model progresses in sorting the data, the groupings get smaller and smaller. This model is useful for predicting data that has several influencing factors. "
   ]
  },
  {
   "cell_type": "code",
   "execution_count": null,
   "metadata": {},
   "outputs": [],
   "source": [
    "from sklearn.tree import DecisionTreeRegressor\n",
    "\n",
    "# Step 4: Create and train the machine learning model\n",
    "model = DecisionTreeRegressor()\n",
    "model.fit(atomic_number_train, atomic_mass_train)\n",
    "\n",
    "# Step 5: Evaluate the model\n",
    "atomic_mass_pred = model.predict(atomic_number_test)\n",
    "\n",
    "# Step 6: Plot the results\n",
    "plt.figure(figsize=(12,8))\n",
    "plt.scatter(atomic_number_test, atomic_mass_test, color='green', label='Actual data')\n",
    "plt.scatter(atomic_number_test, atomic_mass_pred, color='orange', label='Model prediction')\n",
    "plt.xlabel('Molecular Weight (grams per mole)')\n",
    "plt.ylabel('Boiling Point (degrees Celsius)')\n",
    "plt.title('Boiling Point vs. Molecular Weight')\n",
    "plt.minorticks_on()  # Enable minor ticks\n",
    "plt.grid(which='major', linestyle='-', linewidth='0.5', color='grey')  # Major gridlines\n",
    "plt.grid(which='minor', linestyle=':', linewidth='0.5', color='black')  # Minor gridlines\n",
    "plt.legend()\n",
    "plt.show()"
   ]
  },
  {
   "attachments": {
    "7127fbb8-089d-45ce-af88-d1c10e8428f2.png": {
     "image/png": "[encoded data removed]"
    }
   },
   "cell_type": "markdown",
   "metadata": {},
   "source": [
    "![green-stop.png](attachment:7127fbb8-089d-45ce-af88-d1c10e8428f2.png)"
   ]
  },
  {
   "cell_type": "markdown",
   "metadata": {},
   "source": [
    "<h3>Nearest Neighbors model</h3> \n",
    "\n",
    "A nearest neighbors model tries to predict a data point by looking at the data values that are nearest to it. Imagine you have 100 data points ranging from (0,0) to (90,100). Consider a situation where you want to predict the value of a new data point, and the three nearest data points to it are (2,2), (4,6), and (5,8). \n",
    "\n",
    "A nearest neighbors model could look to these nearest data points and calculate their average to predict the value of the new data point. For instance, if the new data point is at coordinates (3, 4), the model will determine the similarity between this point and the three nearest points and make a prediction based on their values. This approach is particularly useful in tasks where it's acceptable to make the assumption that data points that are close to each other are likely to have similar characteristics."
   ]
  },
  {
   "cell_type": "code",
   "execution_count": null,
   "metadata": {},
   "outputs": [],
   "source": [
    "from sklearn.neighbors import KNeighborsRegressor\n",
    "model = KNeighborsRegressor()\n",
    "model.fit(atomic_number_train, atomic_mass_train)\n",
    "\n",
    "# Step 5: Evaluate the model\n",
    "atomic_mass_pred = model.predict(atomic_number_test)\n",
    "\n",
    "# Step 6: Plot the results\n",
    "plt.figure(figsize=(12,8))\n",
    "plt.scatter(atomic_number_test, atomic_mass_test, color='green', label='Actual data')\n",
    "plt.scatter(atomic_number_test, atomic_mass_pred, color='blue', label='Model prediction')\n",
    "plt.xlabel('Molecular Weight (grams per mole)')\n",
    "plt.ylabel('Boiling Point (degrees Celsius)')\n",
    "plt.title('Boiling Point vs. Molecular Weight')\n",
    "plt.minorticks_on()  # Enable minor ticks\n",
    "plt.grid(which='major', linestyle='-', linewidth='0.5', color='grey')  # Major gridlines\n",
    "plt.grid(which='minor', linestyle=':', linewidth='0.5', color='black')  # Minor gridlines\n",
    "plt.legend()\n",
    "plt.show()"
   ]
  },
  {
   "cell_type": "markdown",
   "metadata": {},
   "source": [
    "<h3>Linear Regression Model</h3>\n",
    "\n",
    "A linear regression model is a type of machine learning that helps us find the relationship between two things. Imagine you want to predict how much you will score on a test based on how many hours you studied. Linear regression looks at the data (like hours studied and test scores) and attempts to draw a line that matches as many data points as possible, while as staying straight (constant slope).\n",
    "\n",
    "The goal of linear regression is to find the best-fitting line that represents the pattern in the data. This is probably pretty familiar to you if you have learned about lines of best fit and y=mx+b in math class!"
   ]
  },
  {
   "cell_type": "code",
   "execution_count": null,
   "metadata": {},
   "outputs": [],
   "source": [
    "from sklearn.linear_model import LinearRegression\n",
    "model = LinearRegression()\n",
    "model.fit(atomic_number_train, atomic_mass_train)\n",
    "\n",
    "# Step 5: Evaluate the model\n",
    "atomic_mass_pred = model.predict(atomic_number_test)\n",
    "\n",
    "# Step 6: Plot the results\n",
    "plt.figure(figsize=(12,8))\n",
    "plt.scatter(atomic_number_test, atomic_mass_test, color='green', label='Actual data')\n",
    "plt.scatter(atomic_number_test, atomic_mass_pred, color='pink', label='Model prediction')\n",
    "plt.xlabel('Molecular Weight (grams per mole)')\n",
    "plt.ylabel('Boiling Point (degrees Celsius)')\n",
    "plt.title('Boiling Point vs. Molecular Weight')\n",
    "plt.minorticks_on()  # Enable minor ticks\n",
    "plt.grid(which='major', linestyle='-', linewidth='0.5', color='grey')  # Major gridlines\n",
    "plt.grid(which='minor', linestyle=':', linewidth='0.5', color='black')  # Minor gridlines\n",
    "plt.legend()\n",
    "plt.show()"
   ]
  },
  {
   "attachments": {
    "c113f6fb-1345-48bc-bf6b-e6a99b2d6473.png": {
     "image/png": "[encoded data removed]"
    }
   },
   "cell_type": "markdown",
   "metadata": {},
   "source": [
    "![orange-stop.png](attachment:c113f6fb-1345-48bc-bf6b-e6a99b2d6473.png)"
   ]
  },
  {
   "cell_type": "markdown",
   "metadata": {},
   "source": [
    "## Debrief questions\n",
    "\n",
    "### (1) Which model do you think performed the best in predicting the test data from our data set? \n",
    "### (2) How are you deciding which model performed the best? \n",
    "### (3) Do you think the same model would work just as well if we attempted to apply it to a different periodic trend? Why or why not?"
   ]
  }
 ],
 "metadata": {
  "colab": {
   "provenance": []
  },
  "kernelspec": {
   "display_name": "Python 3 (ipykernel)",
   "language": "python",
   "name": "python3"
  },
  "language_info": {
   "codemirror_mode": {
    "name": "ipython",
    "version": 3
   },
   "file_extension": ".py",
   "mimetype": "text/x-python",
   "name": "python",
   "nbconvert_exporter": "python",
   "pygments_lexer": "ipython3",
   "version": "3.11.0"
  }
 },
 "nbformat": 4,
 "nbformat_minor": 4
}
